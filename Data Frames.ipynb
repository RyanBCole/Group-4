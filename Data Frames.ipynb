{
 "cells": [
  {
   "cell_type": "code",
   "execution_count": 9,
   "id": "5f870de9",
   "metadata": {},
   "outputs": [],
   "source": [
    "import numpy as np # linear algebra\n",
    "import pandas as pd # data processing, CSV file I/O (e.g. pd.read_csv)\n",
    "import matplotlib.pyplot as plt\n",
    "Results = pd.read_csv('../Group-4/Formula_1_csvs/results.csv/results.csv')\n",
    "Driver = pd.read_csv(\"../Group-4/Formula_1_csvs/drivers.csv\")\n",
    "Pit_stops = pd.read_csv(\"../Group-4/Formula_1_csvs/pit_stops.csv\")\n",
    "Race = pd.read_csv(\"../Group-4/Formula_1_csvs/races.csv\")\n",
    "Driver_standing = pd.read_csv(\"../Group-4/Formula_1_csvs/driver_standings.csv\")\n",
    "Status = pd.read_csv(\"../Group-4/Formula_1_csvs/status.csv\")"
   ]
  },
  {
   "cell_type": "code",
   "execution_count": null,
   "id": "6b5da919",
   "metadata": {},
   "outputs": [],
   "source": []
  }
 ],
 "metadata": {
  "kernelspec": {
   "display_name": "Python 3 (ipykernel)",
   "language": "python",
   "name": "python3"
  },
  "language_info": {
   "codemirror_mode": {
    "name": "ipython",
    "version": 3
   },
   "file_extension": ".py",
   "mimetype": "text/x-python",
   "name": "python",
   "nbconvert_exporter": "python",
   "pygments_lexer": "ipython3",
   "version": "3.9.13"
  }
 },
 "nbformat": 4,
 "nbformat_minor": 5
}
