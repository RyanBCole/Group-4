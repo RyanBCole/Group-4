{
 "cells": [
  {
   "cell_type": "code",
   "execution_count": 12,
   "id": "bb756a25",
   "metadata": {},
   "outputs": [],
   "source": [
    "import numpy as np\n",
    "import pandas as pd\n",
    "import matplotlib.pyplot as plt\n",
    "Results = pd.read_csv('../Group-4/Formula_1_csvs/results.csv/results.csv')\n",
    "Qualifying = pd.read_csv(\"../Group-4/Formula_1_csvs/qualifying.csv\")\n",
    "Pit_stops = pd.read_csv(\"../Group-4/Formula_1_csvs/pit_stops.csv\")\n",
    "Race = pd.read_csv(\"../Group-4/Formula_1_csvs/Race.csv\")\n",
    "Drivers_2021 = pd.read_csv(\"../Group-4/Formula_1_csvs/2021_Drivers.csv\")\n",
    "Drivers_2022 = pd.read_csv(\"../Group-4/Formula_1_csvs/2022_Drivers.csv\")\n",
    "Constructor = pd.read_csv(\"../Group-4/txt files/Constructors.txt\")\n",
    "Outlier_Races = pd.read_csv(\"../Group-4/Formula_1_csvs/Inclement Weather Races.csv\")"
   ]
  },
  {
   "cell_type": "code",
   "execution_count": null,
   "id": "b5f35202",
   "metadata": {},
   "outputs": [],
   "source": []
  }
 ],
 "metadata": {
  "kernelspec": {
   "display_name": "Python 3 (ipykernel)",
   "language": "python",
   "name": "python3"
  },
  "language_info": {
   "codemirror_mode": {
    "name": "ipython",
    "version": 3
   },
   "file_extension": ".py",
   "mimetype": "text/x-python",
   "name": "python",
   "nbconvert_exporter": "python",
   "pygments_lexer": "ipython3",
   "version": "3.9.13"
  }
 },
 "nbformat": 4,
 "nbformat_minor": 5
}
