{
 "cells": [
  {
   "cell_type": "code",
   "execution_count": 1,
   "id": "023195ae",
   "metadata": {},
   "outputs": [
    {
     "name": "stdout",
     "output_type": "stream",
     "text": [
      "['Mercedes:', 'Lewis', 'Hamilton', '(1)', '&', 'George', 'Russell', '(847)']\n",
      "['Red', 'Bull:', 'Max', 'Verstappen', '(830)', '&', 'Sergio', 'Perez', '(815)']\n",
      "['Ferrari:', 'Charles', 'Leclerc', '(844)', '&', 'Carlos', 'Sainz', '(832)']\n",
      "['Aston', 'Martin:', 'Lance', 'Stroll', '(840)', '&', 'Sebastian', 'Vettel', '(20)']\n",
      "['Alpine:', 'Esteben', 'Ocon', '(839)', '&', 'Fernando', 'Alonso', '(4)']\n",
      "['Haas:', 'Mick', 'Schumacher', '(854)', '&', 'Kevin', 'Magnussen', '(825)']\n",
      "['AlphaTauri:', 'Yuki', 'Tsunoda', '(852)', '&', 'Pierre', 'Gasly', '(842)']\n",
      "['Williams:', 'Alex', 'Albon', '(848)', '&', 'Nicholas', 'Latifi', '(849)']\n",
      "['McLaren:', 'Lando', 'Norris', '(846)', '&', 'Daniel', 'Riccardo', '(817)']\n",
      "['Alfa', 'Romeo:', 'Zhou', 'Guanyu', '(855)', '&', 'Valterri', 'Bottas', '(822)']\n"
     ]
    }
   ],
   "source": [
    "import pandas as pd\n",
    "with open(\"../Group-4/2022_drivers.txt\") as data_file:\n",
    "    for line in data_file:\n",
    "        data = line.split()\n",
    "        print(data)"
   ]
  },
  {
   "cell_type": "code",
   "execution_count": null,
   "id": "330d9fc2",
   "metadata": {},
   "outputs": [],
   "source": []
  }
 ],
 "metadata": {
  "kernelspec": {
   "display_name": "Python 3 (ipykernel)",
   "language": "python",
   "name": "python3"
  },
  "language_info": {
   "codemirror_mode": {
    "name": "ipython",
    "version": 3
   },
   "file_extension": ".py",
   "mimetype": "text/x-python",
   "name": "python",
   "nbconvert_exporter": "python",
   "pygments_lexer": "ipython3",
   "version": "3.9.13"
  }
 },
 "nbformat": 4,
 "nbformat_minor": 5
}
